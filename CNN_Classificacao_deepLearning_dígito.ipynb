{
  "nbformat": 4,
  "nbformat_minor": 0,
  "metadata": {
    "colab": {
      "name": "CNN-Classificacao_deepLearning_dígito.ipynb",
      "provenance": [],
      "collapsed_sections": [],
      "include_colab_link": true
    },
    "kernelspec": {
      "display_name": "Python 3",
      "name": "python3"
    }
  },
  "cells": [
    {
      "cell_type": "markdown",
      "metadata": {
        "id": "view-in-github",
        "colab_type": "text"
      },
      "source": [
        "<a href=\"https://colab.research.google.com/github/eduardadelavle/Machine-Learning/blob/main/CNN_Classificacao_deepLearning_d%C3%ADgito.ipynb\" target=\"_parent\"><img src=\"https://colab.research.google.com/assets/colab-badge.svg\" alt=\"Open In Colab\"/></a>"
      ]
    },
    {
      "cell_type": "markdown",
      "metadata": {
        "id": "KgiPDG2NHCeO"
      },
      "source": [
        "Bibliotecas"
      ]
    },
    {
      "cell_type": "code",
      "metadata": {
        "id": "v_9V1u0cHE60"
      },
      "source": [
        "import tensorflow \n",
        "from tensorflow import keras\n",
        "from keras.models import model_from_json\n",
        "import matplotlib.pyplot as plt\n",
        "import numpy as np\n",
        "import pandas as pd\n"
      ],
      "execution_count": 31,
      "outputs": []
    },
    {
      "cell_type": "code",
      "metadata": {
        "id": "8Y_u86CcJzw1"
      },
      "source": [
        "#!pip install -q pyyaml h5py"
      ],
      "execution_count": 32,
      "outputs": []
    },
    {
      "cell_type": "markdown",
      "metadata": {
        "id": "ayhY2Wn_HJj7"
      },
      "source": [
        "Importando o dataset e separando entre treinamento e teste"
      ]
    },
    {
      "cell_type": "code",
      "metadata": {
        "id": "6Ur1-wdsWqEy"
      },
      "source": [
        "dataset= keras.datasets.mnist.load_data(path=\"mnist.npz\")\n",
        "((imagens_treino, classes_treino), (imagens_teste, classes_teste))=dataset\n"
      ],
      "execution_count": 33,
      "outputs": []
    },
    {
      "cell_type": "markdown",
      "metadata": {
        "id": "tm6d6_qdHVBa"
      },
      "source": [
        "Informações sobre o dataset"
      ]
    },
    {
      "cell_type": "code",
      "metadata": {
        "id": "2RxnXWikYQoz",
        "colab": {
          "base_uri": "https://localhost:8080/",
          "height": 458
        },
        "outputId": "4037951c-2cbc-4cc0-f4ba-fa116c1f70f1"
      },
      "source": [
        "print(\"imagens de Treino:\", len(imagens_treino))\n",
        "print(\"imagens de Treino:\", imagens_treino.shape)\n",
        "print(\"imagens de Teste:\", imagens_teste.shape)\n",
        "print(\"Classes de Treino:\", classes_treino.shape)\n",
        "\n",
        "print(\"Min: \", classes_treino.min())\n",
        "print(\"Max: \", classes_treino.max())\n",
        "\n",
        "nomes_de_classificacoes = ['Zero', 'Um', 'Dois', 'Três', 'Quatro', 'Cinco', 'Seis', 'Sete', 'Oito', 'Nove']\n",
        "\n",
        "total_de_classificacoes=10\n",
        "\n",
        "fig, axes = plt.subplots(figsize=(10,5))\n",
        "fig.tight_layout()\n",
        "\n",
        "for imagem in range(10):\n",
        "    plt.subplot(2, 5, imagem+1)\n",
        "    plt.imshow(imagens_treino[imagem])\n",
        "    plt.title(nomes_de_classificacoes[classes_treino[imagem]])"
      ],
      "execution_count": 34,
      "outputs": [
        {
          "output_type": "stream",
          "text": [
            "imagens de Treino: 60000\n",
            "imagens de Treino: (60000, 28, 28)\n",
            "imagens de Teste: (10000, 28, 28)\n",
            "Classes de Treino: (60000,)\n",
            "Min:  0\n",
            "Max:  9\n"
          ],
          "name": "stdout"
        },
        {
          "output_type": "display_data",
          "data": {
            "image/png": "[encoded data removed]",
            "text/plain": [
              "<Figure size 720x360 with 10 Axes>"
            ]
          },
          "metadata": {
            "tags": [],
            "needs_background": "light"
          }
        }
      ]
    },
    {
      "cell_type": "markdown",
      "metadata": {
        "id": "53_Ql3MTOB4s"
      },
      "source": [
        "Uma única imagem"
      ]
    },
    {
      "cell_type": "code",
      "metadata": {
        "id": "vZXLU2CFOBBN",
        "colab": {
          "base_uri": "https://localhost:8080/",
          "height": 282
        },
        "outputId": "ea7ac907-ed50-4767-f5f3-a23b7c7f383b"
      },
      "source": [
        "plt.imshow(imagens_treino[0])\n",
        "plt.colorbar()"
      ],
      "execution_count": 35,
      "outputs": [
        {
          "output_type": "execute_result",
          "data": {
            "text/plain": [
              "<matplotlib.colorbar.Colorbar at 0x7ff307fc9a20>"
            ]
          },
          "metadata": {
            "tags": []
          },
          "execution_count": 35
        },
        {
          "output_type": "display_data",
          "data": {
            "image/png": "[encoded data removed]",
            "text/plain": [
              "<Figure size 432x288 with 2 Axes>"
            ]
          },
          "metadata": {
            "tags": [],
            "needs_background": "light"
          }
        }
      ]
    },
    {
      "cell_type": "code",
      "metadata": {
        "colab": {
          "base_uri": "https://localhost:8080/"
        },
        "id": "KylfsktWv4DL",
        "outputId": "58121272-0f1b-40b0-89b5-5a31564bcb87"
      },
      "source": [
        "print(imagens_treino.shape)\n",
        "imagens_treino = imagens_treino.reshape((imagens_treino.shape[0],28,28, 1))\n",
        "imagens_teste = imagens_teste.reshape((imagens_teste.shape[0],28,28, 1))\n",
        "print(imagens_treino.shape)"
      ],
      "execution_count": 36,
      "outputs": [
        {
          "output_type": "stream",
          "text": [
            "(60000, 28, 28)\n",
            "(60000, 28, 28, 1)\n"
          ],
          "name": "stdout"
        }
      ]
    },
    {
      "cell_type": "code",
      "metadata": {
        "id": "fx7BgkDdIPCM"
      },
      "source": [
        "#normalização (otimização dos dados antes do treino)\n",
        "#testar ativar e desativar a normalização\n",
        "imagens_treino = imagens_treino/255\n",
        "\n",
        "#modelo = keras.Sequential([\n",
        "  # entrada\n",
        "  # processamento\n",
        "  # saída\n",
        "# ])\n",
        "# Classe Sequential fornece recursos de treinamento e inferência no nosso modelo.\n",
        "\n",
        "modelo = keras.Sequential([keras.layers.Conv2D(32, (3,3), input_shape=(28,28, 1), activation=tensorflow.nn.relu),\n",
        "keras.layers.MaxPooling2D((2,2)),\n",
        "keras.layers.Flatten(),\n",
        "keras.layers.Dense(100, activation=tensorflow.nn.relu),\n",
        "keras.layers.Dropout(0.2),\n",
        "#testar com mais uma--> keras.layers.Dense(128, activation=tensorflow.nn.relu),\n",
        "keras.layers.Dense(10, activation=tensorflow.nn.softmax)\n",
        "])\n",
        "adam=keras.optimizers.Adam(lr=0.5)\n",
        "modelo.compile(optimizer='adam', loss='sparse_categorical_crossentropy', metrics='accuracy')"
      ],
      "execution_count": 37,
      "outputs": []
    },
    {
      "cell_type": "markdown",
      "metadata": {
        "id": "obf8-nP8LEAE"
      },
      "source": [
        "Treinamento"
      ]
    },
    {
      "cell_type": "code",
      "metadata": {
        "id": "OSV0yoL-LNwl",
        "colab": {
          "base_uri": "https://localhost:8080/"
        },
        "outputId": "4b2609b3-fefd-4e3b-8500-344c91be58f9"
      },
      "source": [
        "#validation_split=0.2\n",
        "hist=modelo.fit(imagens_treino, classes_treino, epochs=10, validation_split=0.2)"
      ],
      "execution_count": 24,
      "outputs": [
        {
          "output_type": "stream",
          "text": [
            "Epoch 1/10\n",
            "1500/1500 [==============================] - 28s 19ms/step - loss: 0.2107 - accuracy: 0.9374 - val_loss: 0.0807 - val_accuracy: 0.9774\n",
            "Epoch 2/10\n",
            "1500/1500 [==============================] - 29s 19ms/step - loss: 0.0750 - accuracy: 0.9770 - val_loss: 0.0597 - val_accuracy: 0.9833\n",
            "Epoch 3/10\n",
            "1500/1500 [==============================] - 28s 19ms/step - loss: 0.0515 - accuracy: 0.9839 - val_loss: 0.0548 - val_accuracy: 0.9837\n",
            "Epoch 4/10\n",
            "1500/1500 [==============================] - 28s 19ms/step - loss: 0.0399 - accuracy: 0.9879 - val_loss: 0.0557 - val_accuracy: 0.9839\n",
            "Epoch 5/10\n",
            "1500/1500 [==============================] - 28s 19ms/step - loss: 0.0304 - accuracy: 0.9901 - val_loss: 0.0518 - val_accuracy: 0.9864\n",
            "Epoch 6/10\n",
            "1500/1500 [==============================] - 28s 19ms/step - loss: 0.0235 - accuracy: 0.9921 - val_loss: 0.0510 - val_accuracy: 0.9862\n",
            "Epoch 7/10\n",
            "1500/1500 [==============================] - 28s 19ms/step - loss: 0.0197 - accuracy: 0.9935 - val_loss: 0.0535 - val_accuracy: 0.9858\n",
            "Epoch 8/10\n",
            "1500/1500 [==============================] - 28s 19ms/step - loss: 0.0149 - accuracy: 0.9952 - val_loss: 0.0628 - val_accuracy: 0.9841\n",
            "Epoch 9/10\n",
            "1500/1500 [==============================] - 28s 19ms/step - loss: 0.0155 - accuracy: 0.9946 - val_loss: 0.0500 - val_accuracy: 0.9862\n",
            "Epoch 10/10\n",
            "1500/1500 [==============================] - 28s 19ms/step - loss: 0.0114 - accuracy: 0.9962 - val_loss: 0.0655 - val_accuracy: 0.9854\n"
          ],
          "name": "stdout"
        }
      ]
    },
    {
      "cell_type": "code",
      "metadata": {
        "id": "N53XObr9LkcB",
        "colab": {
          "base_uri": "https://localhost:8080/",
          "height": 314
        },
        "outputId": "adc60f15-f4c5-4f8b-c2a4-0a8aa95d4b81"
      },
      "source": [
        "plt.plot(hist.history['accuracy'])\n",
        "plt.plot(hist.history['val_accuracy'])\n",
        "plt.title('Acurácia por épocas')\n",
        "plt.xlabel('Épocas')\n",
        "plt.ylabel('Acurácia')\n",
        "plt.legend(['Treino', 'Validação'])"
      ],
      "execution_count": 25,
      "outputs": [
        {
          "output_type": "execute_result",
          "data": {
            "text/plain": [
              "<matplotlib.legend.Legend at 0x7ff2f91ca048>"
            ]
          },
          "metadata": {
            "tags": []
          },
          "execution_count": 25
        },
        {
          "output_type": "display_data",
          "data": {
            "image/png": "[encoded data removed]",
            "text/plain": [
              "<Figure size 432x288 with 1 Axes>"
            ]
          },
          "metadata": {
            "tags": [],
            "needs_background": "light"
          }
        }
      ]
    },
    {
      "cell_type": "code",
      "metadata": {
        "id": "IZFfJKpPM045",
        "colab": {
          "base_uri": "https://localhost:8080/",
          "height": 314
        },
        "outputId": "c926f74f-b39b-4708-eeac-9a4dac4eccb5"
      },
      "source": [
        "plt.plot(hist.history['loss'])\n",
        "plt.plot(hist.history['val_loss'])\n",
        "plt.title('Perda por épocas')\n",
        "plt.xlabel('Épocas')\n",
        "plt.ylabel('perda')\n",
        "plt.legend(['Treino', 'Validação'])"
      ],
      "execution_count": 26,
      "outputs": [
        {
          "output_type": "execute_result",
          "data": {
            "text/plain": [
              "<matplotlib.legend.Legend at 0x7ff2f816d898>"
            ]
          },
          "metadata": {
            "tags": []
          },
          "execution_count": 26
        },
        {
          "output_type": "display_data",
          "data": {
            "image/png": "[encoded data removed]",
            "text/plain": [
              "<Figure size 432x288 with 1 Axes>"
            ]
          },
          "metadata": {
            "tags": [],
            "needs_background": "light"
          }
        }
      ]
    },
    {
      "cell_type": "code",
      "metadata": {
        "id": "FjbPNWEcCUWz",
        "colab": {
          "base_uri": "https://localhost:8080/"
        },
        "outputId": "4887a62f-12f8-4e0c-e1f9-0237e2879d70"
      },
      "source": [
        "# serialize model to JSON\n",
        "model_json = modelo.to_json()\n",
        "with open(\"model.json\", \"w\") as json_file:\n",
        "    json_file.write(model_json)\n",
        "# serialize weights to HDF5\n",
        "modelo.save_weights(\"model.h5\")\n",
        "print(\"Saved model to disk\")"
      ],
      "execution_count": 27,
      "outputs": [
        {
          "output_type": "stream",
          "text": [
            "Saved model to disk\n"
          ],
          "name": "stdout"
        }
      ]
    },
    {
      "cell_type": "markdown",
      "metadata": {
        "id": "DykbLCiFU4Y6"
      },
      "source": [
        "Testes"
      ]
    },
    {
      "cell_type": "code",
      "metadata": {
        "id": "IJTWqu3eLOkT",
        "colab": {
          "base_uri": "https://localhost:8080/"
        },
        "outputId": "683f45e1-99b4-464b-ceb2-427d2ad89726"
      },
      "source": [
        "# load json and create model\n",
        "json_file = open('model.json', 'r')\n",
        "loaded_model_json = json_file.read()\n",
        "json_file.close()\n",
        "loaded_model = model_from_json(loaded_model_json)\n",
        "# load weights into new model\n",
        "loaded_model.load_weights(\"model.h5\")\n",
        "print(\"Loaded model from disk\")\n",
        "loaded_model.compile(optimizer='adam', loss='sparse_categorical_crossentropy', metrics='accuracy')\n",
        "testes=loaded_model.predict(imagens_teste/255)\n",
        "testes"
      ],
      "execution_count": 28,
      "outputs": [
        {
          "output_type": "stream",
          "text": [
            "Loaded model from disk\n"
          ],
          "name": "stdout"
        },
        {
          "output_type": "execute_result",
          "data": {
            "text/plain": [
              "array([[1.96649963e-09, 7.87787474e-11, 2.02880199e-10, ...,\n",
              "        9.99999642e-01, 1.98593031e-09, 6.22892671e-08],\n",
              "       [4.60716798e-09, 1.77629117e-05, 9.99982238e-01, ...,\n",
              "        1.11896254e-14, 1.08436090e-12, 1.74395935e-14],\n",
              "       [9.66592584e-10, 1.00000000e+00, 8.24104153e-12, ...,\n",
              "        1.91699439e-08, 7.12966741e-10, 6.71121936e-10],\n",
              "       ...,\n",
              "       [4.39590413e-18, 9.07260031e-12, 4.17345475e-17, ...,\n",
              "        2.40415110e-12, 1.41458845e-10, 1.15794144e-07],\n",
              "       [4.43659172e-11, 3.41030394e-16, 1.17300996e-20, ...,\n",
              "        9.60348422e-15, 1.23702321e-05, 1.28809142e-11],\n",
              "       [2.29345243e-13, 2.74237272e-15, 1.76234583e-13, ...,\n",
              "        1.58864682e-16, 1.03833642e-09, 7.44711632e-17]], dtype=float32)"
            ]
          },
          "metadata": {
            "tags": []
          },
          "execution_count": 28
        }
      ]
    },
    {
      "cell_type": "code",
      "metadata": {
        "id": "SFZAKbT9TZWC",
        "colab": {
          "base_uri": "https://localhost:8080/"
        },
        "outputId": "70900f14-cf9d-44af-be29-ad6ff7996c03"
      },
      "source": [
        "perda_teste, acuracia_teste=loaded_model.evaluate(imagens_teste, classes_teste)\n",
        "print('Perda do teste', perda_teste)\n",
        "print('Acurácia do teste', acuracia_teste*100)"
      ],
      "execution_count": 29,
      "outputs": [
        {
          "output_type": "stream",
          "text": [
            "313/313 [==============================] - 2s 7ms/step - loss: 95.0623 - accuracy: 0.9243\n",
            "Perda do teste 95.06233215332031\n",
            "Acurácia do teste 92.43000149726868\n"
          ],
          "name": "stdout"
        }
      ]
    },
    {
      "cell_type": "code",
      "metadata": {
        "id": "4NZbW1EJCfUM",
        "colab": {
          "base_uri": "https://localhost:8080/"
        },
        "outputId": "e050fce4-28f5-446b-e5df-2ffbb396a7b0"
      },
      "source": [
        "modelo.summary()"
      ],
      "execution_count": 30,
      "outputs": [
        {
          "output_type": "stream",
          "text": [
            "Model: \"sequential\"\n",
            "_________________________________________________________________\n",
            "Layer (type)                 Output Shape              Param #   \n",
            "=================================================================\n",
            "conv2d (Conv2D)              (None, 26, 26, 32)        320       \n",
            "_________________________________________________________________\n",
            "max_pooling2d (MaxPooling2D) (None, 13, 13, 32)        0         \n",
            "_________________________________________________________________\n",
            "flatten (Flatten)            (None, 5408)              0         \n",
            "_________________________________________________________________\n",
            "dense (Dense)                (None, 100)               540900    \n",
            "_________________________________________________________________\n",
            "dropout (Dropout)            (None, 100)               0         \n",
            "_________________________________________________________________\n",
            "dense_1 (Dense)              (None, 10)                1010      \n",
            "=================================================================\n",
            "Total params: 542,230\n",
            "Trainable params: 542,230\n",
            "Non-trainable params: 0\n",
            "_________________________________________________________________\n"
          ],
          "name": "stdout"
        }
      ]
    },
    {
      "cell_type": "code",
      "metadata": {
        "id": "oTsvUHadSjAX"
      },
      "source": [
        ""
      ],
      "execution_count": 30,
      "outputs": []
    },
    {
      "cell_type": "code",
      "metadata": {
        "id": "JDnKb5r8OtWQ"
      },
      "source": [
        ""
      ],
      "execution_count": 30,
      "outputs": []
    }
  ]
}