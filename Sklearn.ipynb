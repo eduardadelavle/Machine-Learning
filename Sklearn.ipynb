{
  "nbformat": 4,
  "nbformat_minor": 0,
  "metadata": {
    "colab": {
      "name": "03/11_Sklearn.ipynb",
      "provenance": [],
      "authorship_tag": "ABX9TyMXr6E6Doxnzh0ZVHcNf3vu",
      "include_colab_link": true
    },
    "kernelspec": {
      "name": "python3",
      "display_name": "Python 3"
    }
  },
  "cells": [
    {
      "cell_type": "markdown",
      "metadata": {
        "id": "view-in-github",
        "colab_type": "text"
      },
      "source": [
        "<a href=\"https://colab.research.google.com/github/eduardadelavle/Machine-Learning/blob/main/Sklearn.ipynb\" target=\"_parent\"><img src=\"https://colab.research.google.com/assets/colab-badge.svg\" alt=\"Open In Colab\"/></a>"
      ]
    },
    {
      "cell_type": "code",
      "metadata": {
        "id": "cBOSxPhu_xEx"
      },
      "source": [
        "from sklearn.neural_network import MLPClassifier\n",
        "from sklearn import  datasets\n",
        "import numpy as np"
      ],
      "execution_count": null,
      "outputs": []
    },
    {
      "cell_type": "code",
      "metadata": {
        "id": "suQER6tVAIJt",
        "colab": {
          "base_uri": "https://localhost:8080/"
        },
        "outputId": "c33aa2d8-dc17-4a6f-882f-5a8c1627a69b"
      },
      "source": [
        "iris = datasets.load_iris()\n",
        "\n",
        "entradas = iris.data\n",
        "saidas = iris.target\n",
        "\n",
        "redeNeural = MLPClassifier(verbose=True, max_iter=1000, tol=0.001, activation='relu', solver='adam')\n",
        "redeNeural.fit(entradas, saidas)\n"
      ],
      "execution_count": null,
      "outputs": [
        {
          "output_type": "stream",
          "text": [
            "Iteration 1, loss = 1.27018230\n",
            "Iteration 2, loss = 1.21964305\n",
            "Iteration 3, loss = 1.17248071\n",
            "Iteration 4, loss = 1.12906492\n",
            "Iteration 5, loss = 1.08961826\n",
            "Iteration 6, loss = 1.05450323\n",
            "Iteration 7, loss = 1.02390952\n",
            "Iteration 8, loss = 0.99790215\n",
            "Iteration 9, loss = 0.97631402\n",
            "Iteration 10, loss = 0.95850136\n",
            "Iteration 11, loss = 0.94348945\n",
            "Iteration 12, loss = 0.93036921\n",
            "Iteration 13, loss = 0.91813705\n",
            "Iteration 14, loss = 0.90605776\n",
            "Iteration 15, loss = 0.89386207\n",
            "Iteration 16, loss = 0.88127538\n",
            "Iteration 17, loss = 0.86833422\n",
            "Iteration 18, loss = 0.85517561\n",
            "Iteration 19, loss = 0.84200104\n",
            "Iteration 20, loss = 0.82908261\n",
            "Iteration 21, loss = 0.81660895\n",
            "Iteration 22, loss = 0.80460649\n",
            "Iteration 23, loss = 0.79307852\n",
            "Iteration 24, loss = 0.78198618\n",
            "Iteration 25, loss = 0.77130841\n",
            "Iteration 26, loss = 0.76099016\n",
            "Iteration 27, loss = 0.75097921\n",
            "Iteration 28, loss = 0.74128502\n",
            "Iteration 29, loss = 0.73183697\n",
            "Iteration 30, loss = 0.72263849\n",
            "Iteration 31, loss = 0.71369719\n",
            "Iteration 32, loss = 0.70499329\n",
            "Iteration 33, loss = 0.69654531\n",
            "Iteration 34, loss = 0.68838133\n",
            "Iteration 35, loss = 0.68042633\n",
            "Iteration 36, loss = 0.67268829\n",
            "Iteration 37, loss = 0.66513116\n",
            "Iteration 38, loss = 0.65774540\n",
            "Iteration 39, loss = 0.65045539\n",
            "Iteration 40, loss = 0.64326929\n",
            "Iteration 41, loss = 0.63618897\n",
            "Iteration 42, loss = 0.62923033\n",
            "Iteration 43, loss = 0.62241080\n",
            "Iteration 44, loss = 0.61574681\n",
            "Iteration 45, loss = 0.60925402\n",
            "Iteration 46, loss = 0.60295781\n",
            "Iteration 47, loss = 0.59683977\n",
            "Iteration 48, loss = 0.59089785\n",
            "Iteration 49, loss = 0.58511835\n",
            "Iteration 50, loss = 0.57946765\n",
            "Iteration 51, loss = 0.57393286\n",
            "Iteration 52, loss = 0.56852166\n",
            "Iteration 53, loss = 0.56322007\n",
            "Iteration 54, loss = 0.55802609\n",
            "Iteration 55, loss = 0.55295413\n",
            "Iteration 56, loss = 0.54799751\n",
            "Iteration 57, loss = 0.54316180\n",
            "Iteration 58, loss = 0.53843558\n",
            "Iteration 59, loss = 0.53381446\n",
            "Iteration 60, loss = 0.52928768\n",
            "Iteration 61, loss = 0.52484697\n",
            "Iteration 62, loss = 0.52048262\n",
            "Iteration 63, loss = 0.51620164\n",
            "Iteration 64, loss = 0.51200455\n",
            "Iteration 65, loss = 0.50788667\n",
            "Iteration 66, loss = 0.50384966\n",
            "Iteration 67, loss = 0.49988548\n",
            "Iteration 68, loss = 0.49598895\n",
            "Iteration 69, loss = 0.49215677\n",
            "Iteration 70, loss = 0.48838377\n",
            "Iteration 71, loss = 0.48466698\n",
            "Iteration 72, loss = 0.48100198\n",
            "Iteration 73, loss = 0.47739025\n",
            "Iteration 74, loss = 0.47383092\n",
            "Iteration 75, loss = 0.47032235\n",
            "Iteration 76, loss = 0.46686523\n",
            "Iteration 77, loss = 0.46346115\n",
            "Iteration 78, loss = 0.46010605\n",
            "Iteration 79, loss = 0.45679678\n",
            "Iteration 80, loss = 0.45353502\n",
            "Iteration 81, loss = 0.45031748\n",
            "Iteration 82, loss = 0.44714382\n",
            "Iteration 83, loss = 0.44401240\n",
            "Iteration 84, loss = 0.44092310\n",
            "Iteration 85, loss = 0.43787283\n",
            "Iteration 86, loss = 0.43486069\n",
            "Iteration 87, loss = 0.43188537\n",
            "Iteration 88, loss = 0.42894571\n",
            "Iteration 89, loss = 0.42604163\n",
            "Iteration 90, loss = 0.42317045\n",
            "Iteration 91, loss = 0.42033393\n",
            "Iteration 92, loss = 0.41753010\n",
            "Iteration 93, loss = 0.41475790\n",
            "Iteration 94, loss = 0.41202044\n",
            "Iteration 95, loss = 0.40931410\n",
            "Iteration 96, loss = 0.40663706\n",
            "Iteration 97, loss = 0.40398914\n",
            "Iteration 98, loss = 0.40136938\n",
            "Iteration 99, loss = 0.39877492\n",
            "Iteration 100, loss = 0.39620289\n",
            "Iteration 101, loss = 0.39365031\n",
            "Iteration 102, loss = 0.39111703\n",
            "Iteration 103, loss = 0.38860107\n",
            "Iteration 104, loss = 0.38610220\n",
            "Iteration 105, loss = 0.38362056\n",
            "Iteration 106, loss = 0.38115484\n",
            "Iteration 107, loss = 0.37870432\n",
            "Iteration 108, loss = 0.37626829\n",
            "Iteration 109, loss = 0.37384298\n",
            "Iteration 110, loss = 0.37141517\n",
            "Iteration 111, loss = 0.36901730\n",
            "Iteration 112, loss = 0.36667550\n",
            "Iteration 113, loss = 0.36437291\n",
            "Iteration 114, loss = 0.36208847\n",
            "Iteration 115, loss = 0.35981648\n",
            "Iteration 116, loss = 0.35755597\n",
            "Iteration 117, loss = 0.35530876\n",
            "Iteration 118, loss = 0.35307399\n",
            "Iteration 119, loss = 0.35085637\n",
            "Iteration 120, loss = 0.34865831\n",
            "Iteration 121, loss = 0.34647548\n",
            "Iteration 122, loss = 0.34430603\n",
            "Iteration 123, loss = 0.34215365\n",
            "Iteration 124, loss = 0.34001727\n",
            "Iteration 125, loss = 0.33789421\n",
            "Iteration 126, loss = 0.33578655\n",
            "Iteration 127, loss = 0.33369474\n",
            "Iteration 128, loss = 0.33161946\n",
            "Iteration 129, loss = 0.32955711\n",
            "Iteration 130, loss = 0.32750922\n",
            "Iteration 131, loss = 0.32547517\n",
            "Iteration 132, loss = 0.32345562\n",
            "Iteration 133, loss = 0.32144840\n",
            "Iteration 134, loss = 0.31945445\n",
            "Iteration 135, loss = 0.31747303\n",
            "Iteration 136, loss = 0.31550386\n",
            "Iteration 137, loss = 0.31354725\n",
            "Iteration 138, loss = 0.31160295\n",
            "Iteration 139, loss = 0.30967094\n",
            "Iteration 140, loss = 0.30775241\n",
            "Iteration 141, loss = 0.30584588\n",
            "Iteration 142, loss = 0.30395287\n",
            "Iteration 143, loss = 0.30207084\n",
            "Iteration 144, loss = 0.30019888\n",
            "Iteration 145, loss = 0.29833783\n",
            "Iteration 146, loss = 0.29648842\n",
            "Iteration 147, loss = 0.29465017\n",
            "Iteration 148, loss = 0.29282454\n",
            "Iteration 149, loss = 0.29101056\n",
            "Iteration 150, loss = 0.28920660\n",
            "Iteration 151, loss = 0.28741212\n",
            "Iteration 152, loss = 0.28562685\n",
            "Iteration 153, loss = 0.28385183\n",
            "Iteration 154, loss = 0.28208921\n",
            "Iteration 155, loss = 0.28033990\n",
            "Iteration 156, loss = 0.27859981\n",
            "Iteration 157, loss = 0.27686971\n",
            "Iteration 158, loss = 0.27514945\n",
            "Iteration 159, loss = 0.27343727\n",
            "Iteration 160, loss = 0.27173010\n",
            "Iteration 161, loss = 0.27003017\n",
            "Iteration 162, loss = 0.26833888\n",
            "Iteration 163, loss = 0.26665182\n",
            "Iteration 164, loss = 0.26496883\n",
            "Iteration 165, loss = 0.26329451\n",
            "Iteration 166, loss = 0.26162893\n",
            "Iteration 167, loss = 0.25997340\n",
            "Iteration 168, loss = 0.25833008\n",
            "Iteration 169, loss = 0.25670181\n",
            "Iteration 170, loss = 0.25508650\n",
            "Iteration 171, loss = 0.25349497\n",
            "Iteration 172, loss = 0.25192182\n",
            "Iteration 173, loss = 0.25036822\n",
            "Iteration 174, loss = 0.24883626\n",
            "Iteration 175, loss = 0.24732430\n",
            "Iteration 176, loss = 0.24583224\n",
            "Iteration 177, loss = 0.24435345\n",
            "Iteration 178, loss = 0.24288865\n",
            "Iteration 179, loss = 0.24143407\n",
            "Iteration 180, loss = 0.23998847\n",
            "Iteration 181, loss = 0.23855233\n",
            "Iteration 182, loss = 0.23712588\n",
            "Iteration 183, loss = 0.23570894\n",
            "Iteration 184, loss = 0.23430129\n",
            "Iteration 185, loss = 0.23290350\n",
            "Iteration 186, loss = 0.23151567\n",
            "Iteration 187, loss = 0.23013694\n",
            "Iteration 188, loss = 0.22876764\n",
            "Iteration 189, loss = 0.22740942\n",
            "Iteration 190, loss = 0.22606151\n",
            "Iteration 191, loss = 0.22472363\n",
            "Iteration 192, loss = 0.22339580\n",
            "Iteration 193, loss = 0.22207804\n",
            "Iteration 194, loss = 0.22077038\n",
            "Iteration 195, loss = 0.21947283\n",
            "Iteration 196, loss = 0.21818542\n",
            "Iteration 197, loss = 0.21690852\n",
            "Iteration 198, loss = 0.21564177\n",
            "Iteration 199, loss = 0.21438460\n",
            "Iteration 200, loss = 0.21313783\n",
            "Iteration 201, loss = 0.21190226\n",
            "Iteration 202, loss = 0.21067684\n",
            "Iteration 203, loss = 0.20946132\n",
            "Iteration 204, loss = 0.20825567\n",
            "Iteration 205, loss = 0.20706057\n",
            "Iteration 206, loss = 0.20587380\n",
            "Iteration 207, loss = 0.20468942\n",
            "Iteration 208, loss = 0.20350878\n",
            "Iteration 209, loss = 0.20235007\n",
            "Iteration 210, loss = 0.20120388\n",
            "Iteration 211, loss = 0.20005747\n",
            "Iteration 212, loss = 0.19891772\n",
            "Iteration 213, loss = 0.19779048\n",
            "Iteration 214, loss = 0.19667369\n",
            "Iteration 215, loss = 0.19556226\n",
            "Iteration 216, loss = 0.19445584\n",
            "Iteration 217, loss = 0.19335533\n",
            "Iteration 218, loss = 0.19226372\n",
            "Iteration 219, loss = 0.19118035\n",
            "Iteration 220, loss = 0.19010496\n",
            "Iteration 221, loss = 0.18903563\n",
            "Iteration 222, loss = 0.18797332\n",
            "Iteration 223, loss = 0.18691901\n",
            "Iteration 224, loss = 0.18587233\n",
            "Iteration 225, loss = 0.18483372\n",
            "Iteration 226, loss = 0.18380271\n",
            "Iteration 227, loss = 0.18277891\n",
            "Iteration 228, loss = 0.18176212\n",
            "Iteration 229, loss = 0.18075133\n",
            "Iteration 230, loss = 0.17974665\n",
            "Iteration 231, loss = 0.17874943\n",
            "Iteration 232, loss = 0.17775943\n",
            "Iteration 233, loss = 0.17677721\n",
            "Iteration 234, loss = 0.17580208\n",
            "Iteration 235, loss = 0.17483434\n",
            "Iteration 236, loss = 0.17387475\n",
            "Iteration 237, loss = 0.17292274\n",
            "Iteration 238, loss = 0.17198051\n",
            "Iteration 239, loss = 0.17104321\n",
            "Iteration 240, loss = 0.17011372\n",
            "Iteration 241, loss = 0.16919135\n",
            "Training loss did not improve more than tol=0.001000 for 10 consecutive epochs. Stopping.\n"
          ],
          "name": "stdout"
        },
        {
          "output_type": "execute_result",
          "data": {
            "text/plain": [
              "MLPClassifier(activation='relu', alpha=0.0001, batch_size='auto', beta_1=0.9,\n",
              "              beta_2=0.999, early_stopping=False, epsilon=1e-08,\n",
              "              hidden_layer_sizes=(100,), learning_rate='constant',\n",
              "              learning_rate_init=0.001, max_fun=15000, max_iter=1000,\n",
              "              momentum=0.9, n_iter_no_change=10, nesterovs_momentum=True,\n",
              "              power_t=0.5, random_state=None, shuffle=True, solver='adam',\n",
              "              tol=0.001, validation_fraction=0.1, verbose=True,\n",
              "              warm_start=False)"
            ]
          },
          "metadata": {
            "tags": []
          },
          "execution_count": 9
        }
      ]
    },
    {
      "cell_type": "code",
      "metadata": {
        "id": "V5k8WTUtAZEV",
        "colab": {
          "base_uri": "https://localhost:8080/"
        },
        "outputId": "70318173-bcf4-410e-e641-a3de0319addb"
      },
      "source": [
        "import numpy as np\n",
        "print(np.arange(redeNeural.n_iter_))"
      ],
      "execution_count": null,
      "outputs": [
        {
          "output_type": "stream",
          "text": [
            "[  0   1   2   3   4   5   6   7   8   9  10  11  12  13  14  15  16  17\n",
            "  18  19  20  21  22  23  24  25  26  27  28  29  30  31  32  33  34  35\n",
            "  36  37  38  39  40  41  42  43  44  45  46  47  48  49  50  51  52  53\n",
            "  54  55  56  57  58  59  60  61  62  63  64  65  66  67  68  69  70  71\n",
            "  72  73  74  75  76  77  78  79  80  81  82  83  84  85  86  87  88  89\n",
            "  90  91  92  93  94  95  96  97  98  99 100 101 102 103 104 105 106 107\n",
            " 108 109 110 111 112 113 114 115 116 117 118 119 120 121 122 123 124 125\n",
            " 126 127 128 129 130 131 132 133 134 135 136 137 138 139 140 141 142 143\n",
            " 144 145 146 147 148 149 150 151 152 153 154 155 156 157 158 159 160 161\n",
            " 162 163 164 165 166 167 168 169 170 171 172 173 174 175 176 177 178 179\n",
            " 180 181 182 183 184 185 186 187 188 189 190 191 192 193 194 195 196 197\n",
            " 198 199 200 201 202 203 204 205 206 207 208 209 210 211 212 213 214 215\n",
            " 216 217 218 219 220 221 222 223 224 225 226 227 228 229 230 231 232 233\n",
            " 234 235 236 237 238 239 240]\n"
          ],
          "name": "stdout"
        }
      ]
    },
    {
      "cell_type": "code",
      "metadata": {
        "id": "0yDj-LZ1jacd",
        "colab": {
          "base_uri": "https://localhost:8080/"
        },
        "outputId": "7f2056de-b5de-4a6d-fec1-0abc7903a36a"
      },
      "source": [
        "print(redeNeural.loss_curve_)"
      ],
      "execution_count": null,
      "outputs": [
        {
          "output_type": "stream",
          "text": [
            "[1.2701823000141044, 1.2196430540788417, 1.172480714243813, 1.1290649209857182, 1.0896182560146574, 1.054503231799266, 1.0239095178850943, 0.9979021466209183, 0.9763140152689931, 0.9585013630035545, 0.943489447956606, 0.9303692120209571, 0.9181370497614968, 0.9060577637266495, 0.8938620700487976, 0.881275380081705, 0.8683342246841673, 0.8551756114001419, 0.8420010409304205, 0.8290826068280828, 0.8166089500780185, 0.8046064904435928, 0.7930785233346219, 0.7819861761290677, 0.771308414414381, 0.7609901626027364, 0.7509792079899361, 0.7412850199938229, 0.7318369666927311, 0.7226384923105224, 0.7136971920963352, 0.7049932943189539, 0.6965453124008508, 0.6883813270294518, 0.6804263334112861, 0.6726882942523587, 0.6651311610125276, 0.6577453954221005, 0.6504553912885724, 0.6432692910358854, 0.6361889688020433, 0.6292303289481049, 0.622410804766779, 0.6157468075216964, 0.6092540156983238, 0.6029578077155343, 0.5968397685620217, 0.5908978494869912, 0.5851183468852796, 0.5794676484781895, 0.5739328593372242, 0.568521656183602, 0.5632200652394045, 0.5580260935309428, 0.5529541292717269, 0.5479975146975863, 0.5431617967964961, 0.5384355780225512, 0.5338144642604071, 0.5292876808750969, 0.5248469687458363, 0.5204826184413182, 0.5162016415625206, 0.5120045518971336, 0.5078866668475114, 0.5038496628440475, 0.49988547983947274, 0.4959889495624181, 0.4921567651203958, 0.4883837667026724, 0.4846669790089064, 0.48100198013054335, 0.47739025301130844, 0.4738309151396767, 0.4703223479750422, 0.4668652251069737, 0.46346115196375054, 0.46010605042792235, 0.4567967801376317, 0.45353502215391756, 0.4503174798969042, 0.44714381609129217, 0.44401239816804244, 0.44092309576601196, 0.4378728318530813, 0.43486068877962947, 0.4318853664199263, 0.4289457086174587, 0.4260416343381349, 0.42317044732839004, 0.4203339317160839, 0.41753010447964045, 0.4147579000862344, 0.4120204429914579, 0.4093140986964726, 0.40663705559934693, 0.40398914254694424, 0.4013693833065252, 0.39877492381052443, 0.396202891322223, 0.39365030741033336, 0.39111703176936036, 0.3886010668904913, 0.38610220297926845, 0.3836205581295406, 0.3811548438346074, 0.3787043162922007, 0.3762682896176473, 0.3738429758273123, 0.3714151699424233, 0.3690172998055925, 0.36667549780333436, 0.36437290627383545, 0.3620884662127052, 0.359816481509471, 0.35755597076303375, 0.3553087638435132, 0.35307398761623404, 0.35085637450051366, 0.34865831012965104, 0.34647547678247265, 0.3443060264151344, 0.3421536520703531, 0.34001727158094547, 0.33789421046578294, 0.33578655453180145, 0.33369474086890905, 0.33161946406953235, 0.3295571138890233, 0.3275092190464976, 0.32547517445310686, 0.32345561770534564, 0.3214484026324572, 0.31945445177696463, 0.31747302658187626, 0.31550385858360036, 0.3135472519206592, 0.31160294987322834, 0.30967093782553373, 0.30775241361266537, 0.3058458781706471, 0.30395287015487993, 0.3020708377825012, 0.3001988776232451, 0.298337834904775, 0.29648841982644825, 0.29465017112289255, 0.2928245353446207, 0.291010557169085, 0.2892066040083636, 0.28741211573113395, 0.2856268526212274, 0.2838518295032899, 0.28208920605212573, 0.2803398999565518, 0.2785998104349093, 0.27686971101305624, 0.2751494502558017, 0.2734372661880092, 0.27173009966102907, 0.27003016967987287, 0.2683388765826565, 0.2666518203563021, 0.26496882540632943, 0.26329450690560685, 0.26162893212519817, 0.2599733952595306, 0.25833008026660076, 0.2567018129113224, 0.2550864956459352, 0.253494965876176, 0.25192182223972603, 0.25036822158755856, 0.2488362583406546, 0.24732429847105153, 0.24583224444043295, 0.2443534499768921, 0.24288865493167683, 0.2414340747258739, 0.23998846678825164, 0.23855232624285388, 0.23712588257998518, 0.2357089429553204, 0.23430128725876898, 0.23290349839033075, 0.2315156676889384, 0.23013693924624584, 0.22876763532588457, 0.2274094243703425, 0.22606151345877332, 0.22472363290373878, 0.22339579633207748, 0.22207803689699196, 0.22077038183765774, 0.21947283244626106, 0.21818541618118437, 0.21690851764454347, 0.21564176710793503, 0.21438460407560414, 0.2131378312260663, 0.21190226093083428, 0.21067684130430248, 0.20946132018994068, 0.2082556738816011, 0.20706057088418675, 0.20587380148902842, 0.20468941983045677, 0.20350877911724574, 0.20235007384023698, 0.2012038839075928, 0.20005746878759303, 0.198917719259465, 0.19779048008402716, 0.19667369420680922, 0.19556226432173482, 0.19445583606841724, 0.19335533332690955, 0.1922637184048642, 0.19118034884422347, 0.19010495620643963, 0.18903562724913245, 0.18797331756696362, 0.18691900739054165, 0.18587233412770887, 0.18483371746742658, 0.18380271123356015, 0.18277891217988051, 0.18176211937447098, 0.18075133103008936, 0.17974664569887097, 0.17874942905467034, 0.17775942689595828, 0.17677720665353922, 0.17580208209276169, 0.17483433907363372, 0.17387474816850068, 0.1729227363317781, 0.17198050596355563, 0.17104320744585252, 0.1701137173085273, 0.16919134840069136]\n"
          ],
          "name": "stdout"
        }
      ]
    },
    {
      "cell_type": "code",
      "metadata": {
        "id": "C_ZDBSBSjxbO",
        "colab": {
          "base_uri": "https://localhost:8080/",
          "height": 278
        },
        "outputId": "2938248c-b253-4b12-8674-e98d301e5dd4"
      },
      "source": [
        "x=np.arange(redeNeural.n_iter_)\n",
        "y=redeNeural.loss_curve_\n",
        "from matplotlib.pyplot import *\n",
        "plot(x,y)\n",
        "xlabel(\"Iteração\")\n",
        "ylabel(\"erro\")\n",
        "show()"
      ],
      "execution_count": null,
      "outputs": [
        {
          "output_type": "display_data",
          "data": {
            "image/png": "[encoded data removed]",
            "text/plain": [
              "<Figure size 432x288 with 1 Axes>"
            ]
          },
          "metadata": {
            "tags": [],
            "needs_background": "light"
          }
        }
      ]
    },
    {
      "cell_type": "code",
      "metadata": {
        "id": "-0C8ptqIk3Y6"
      },
      "source": [
        ""
      ],
      "execution_count": null,
      "outputs": []
    },
    {
      "cell_type": "code",
      "metadata": {
        "id": "j7CkJ5ODk3sN"
      },
      "source": [
        ""
      ],
      "execution_count": null,
      "outputs": []
    }
  ]
}