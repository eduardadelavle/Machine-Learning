{
  "nbformat": 4,
  "nbformat_minor": 0,
  "metadata": {
    "colab": {
      "name": "AG_Mochila.ipynb",
      "provenance": [],
      "include_colab_link": true
    },
    "kernelspec": {
      "name": "python3",
      "display_name": "Python 3"
    }
  },
  "cells": [
    {
      "cell_type": "markdown",
      "metadata": {
        "id": "view-in-github",
        "colab_type": "text"
      },
      "source": [
        "<a href=\"https://colab.research.google.com/github/eduardadelavle/Machine-Learning/blob/main/AG_Mochila.ipynb\" target=\"_parent\"><img src=\"https://colab.research.google.com/assets/colab-badge.svg\" alt=\"Open In Colab\"/></a>"
      ]
    },
    {
      "cell_type": "markdown",
      "metadata": {
        "id": "bW2lyVxWZAYc"
      },
      "source": [
        "**Importação de bibliotecas**"
      ]
    },
    {
      "cell_type": "code",
      "metadata": {
        "id": "ihOyir3UBNwE"
      },
      "source": [
        "import numpy as np\n",
        "import pandas as pd\n",
        "import random as rd\n",
        "from random import randint\n",
        "import matplotlib.pyplot as plt\n",
        "import random\n",
        " "
      ],
      "execution_count": null,
      "outputs": []
    },
    {
      "cell_type": "markdown",
      "metadata": {
        "id": "j4KK046nZHVZ"
      },
      "source": [
        "**Criando a mochila e os itens**"
      ]
    },
    {
      "cell_type": "code",
      "metadata": {
        "id": "vY5rsGV_B0vh",
        "colab": {
          "base_uri": "https://localhost:8080/",
          "height": 726
        },
        "outputId": "19fee1cb-c6bf-4628-c4d0-95a32bd840df"
      },
      "source": [
        "itens = np.arange(1,21)\n",
        "\n",
        "#randint nesse caso abaixo gera um vetor aleatório de 10 posições com valores de 1 até 15\n",
        "peso = np.random.randint(1, 15, size = 20) \n",
        "valor = np.random.randint(10, 750, size = 20)\n",
        "peso_total_maximo_mochila = 50    \n",
        "print('Item No.   Peso   Valor')\n",
        "#shape pega o tamanho do vetor \n",
        "for i in range(itens.shape[0]):\n",
        "    print('{0}          {1}         {2}\\n'.format(itens[i], peso[i], valor[i]))"
      ],
      "execution_count": null,
      "outputs": [
        {
          "output_type": "stream",
          "text": [
            "Item No.   Peso   Valor\n",
            "1          11         122\n",
            "\n",
            "2          11         171\n",
            "\n",
            "3          5         59\n",
            "\n",
            "4          10         161\n",
            "\n",
            "5          5         146\n",
            "\n",
            "6          1         739\n",
            "\n",
            "7          2         600\n",
            "\n",
            "8          14         513\n",
            "\n",
            "9          13         124\n",
            "\n",
            "10          10         435\n",
            "\n",
            "11          14         312\n",
            "\n",
            "12          8         92\n",
            "\n",
            "13          2         148\n",
            "\n",
            "14          3         659\n",
            "\n",
            "15          13         424\n",
            "\n",
            "16          1         144\n",
            "\n",
            "17          2         72\n",
            "\n",
            "18          12         41\n",
            "\n",
            "19          14         650\n",
            "\n",
            "20          11         42\n",
            "\n"
          ],
          "name": "stdout"
        }
      ]
    },
    {
      "cell_type": "markdown",
      "metadata": {
        "id": "SitkePNYdw52"
      },
      "source": [
        "**Cria população inicial aleatóriamente e define o número de gerações (iterações) que o processo de busca irá ocorrer**"
      ]
    },
    {
      "cell_type": "code",
      "metadata": {
        "id": "jRPaS_qlCaC0",
        "colab": {
          "base_uri": "https://localhost:8080/",
          "height": 916
        },
        "outputId": "a48de703-ff17-4389-f7ea-6e609d013813"
      },
      "source": [
        "solucoes_por_populacao = 50\n",
        "\n",
        "#Esse comando abaixo serve para estabelecer um array onde temos 12 linhas com 10 colunas\n",
        "pop_size = (solucoes_por_populacao, itens.shape[0])\n",
        "\n",
        "print('Tamanho da População = {}'.format(pop_size))\n",
        "\n",
        "populacao_inicial = np.random.randint(2, size = pop_size)\n",
        "populacao_inicial = populacao_inicial.astype(int)\n",
        "num_geracoes = 5\n",
        "print('Populacao Inicial: \\n{}'.format(populacao_inicial))"
      ],
      "execution_count": null,
      "outputs": [
        {
          "output_type": "stream",
          "text": [
            "Tamanho da População = (50, 20)\n",
            "Populacao Inicial: \n",
            "[[1 0 0 1 1 0 1 1 0 0 0 0 0 0 0 0 1 1 0 1]\n",
            " [0 1 1 0 1 1 0 0 0 1 1 1 1 0 1 1 1 0 1 0]\n",
            " [1 1 1 1 0 1 1 1 1 0 0 0 1 1 1 0 1 1 1 1]\n",
            " [0 1 1 1 1 0 1 1 1 1 0 1 1 0 0 1 0 1 0 1]\n",
            " [0 0 0 1 0 1 0 1 0 1 1 0 1 1 1 1 1 0 0 1]\n",
            " [1 0 1 0 1 1 0 0 1 0 1 1 0 0 0 1 0 1 0 1]\n",
            " [1 0 1 1 0 1 1 1 1 0 0 1 0 0 1 0 0 0 1 1]\n",
            " [1 0 1 0 1 1 0 0 1 0 1 0 0 0 1 1 1 0 0 1]\n",
            " [1 0 1 0 1 0 1 0 1 0 0 0 0 0 1 0 0 0 0 0]\n",
            " [0 0 0 1 1 1 0 1 1 0 0 0 0 1 0 1 0 0 1 0]\n",
            " [0 0 0 1 1 1 1 1 0 0 0 1 0 0 0 0 1 1 1 1]\n",
            " [1 1 1 1 0 0 0 1 1 0 1 0 1 0 0 0 0 0 0 1]\n",
            " [0 1 1 1 1 0 1 0 1 0 0 1 0 1 1 1 1 1 0 0]\n",
            " [0 1 1 0 1 1 0 1 1 1 0 1 1 0 0 0 0 0 0 1]\n",
            " [1 1 1 1 0 1 1 0 1 0 0 1 0 1 1 0 0 0 1 0]\n",
            " [1 1 1 0 1 1 1 0 1 1 0 0 0 1 0 1 1 0 0 0]\n",
            " [0 0 1 0 0 1 0 1 0 1 1 1 0 0 0 0 0 1 1 1]\n",
            " [0 0 0 0 1 0 1 0 0 0 1 0 0 0 0 0 0 1 1 1]\n",
            " [0 1 1 1 1 1 0 1 1 0 1 1 0 0 0 1 1 1 0 0]\n",
            " [0 1 1 0 1 1 0 0 1 1 1 0 0 1 1 0 0 0 1 1]\n",
            " [1 1 1 1 1 0 0 0 1 1 1 1 0 0 0 0 1 1 1 0]\n",
            " [1 0 0 1 0 0 1 0 1 0 1 0 1 1 1 0 0 1 0 1]\n",
            " [1 0 0 0 1 1 0 0 0 0 1 1 1 0 0 0 1 0 0 0]\n",
            " [0 1 0 1 0 1 0 1 1 1 1 0 0 1 1 1 1 0 0 1]\n",
            " [0 1 0 0 0 1 1 1 0 0 0 1 1 1 1 1 1 0 1 0]\n",
            " [1 1 1 0 1 1 1 1 1 0 0 1 1 1 1 1 1 0 0 0]\n",
            " [0 0 1 0 0 0 0 0 1 1 0 1 0 0 1 0 1 0 1 0]\n",
            " [1 1 0 0 0 0 0 0 1 0 0 0 0 1 0 1 1 1 1 1]\n",
            " [0 1 1 1 1 0 0 1 1 1 0 0 1 1 0 1 1 0 1 1]\n",
            " [1 0 0 1 1 0 0 0 1 0 1 1 0 0 1 1 1 0 1 0]\n",
            " [0 1 0 1 1 1 0 0 1 0 1 1 0 1 1 0 1 0 1 0]\n",
            " [0 0 1 1 0 0 1 1 1 1 1 1 0 1 0 0 0 1 0 0]\n",
            " [1 1 1 1 1 0 1 0 0 1 1 0 1 1 0 0 0 0 0 1]\n",
            " [0 1 1 0 0 0 1 0 1 1 0 1 0 0 0 1 1 1 0 1]\n",
            " [1 0 0 0 1 1 0 1 1 0 1 1 0 1 0 1 1 1 1 0]\n",
            " [0 1 1 1 0 0 1 1 1 0 0 0 0 0 1 0 0 0 1 0]\n",
            " [0 0 1 0 1 0 1 1 1 0 1 0 0 0 1 0 1 1 0 1]\n",
            " [1 1 1 1 0 1 1 0 0 1 0 0 0 1 0 1 1 1 0 1]\n",
            " [0 0 0 0 1 0 0 0 0 0 0 0 1 0 0 1 0 1 1 1]\n",
            " [1 0 1 1 1 0 0 1 1 1 1 0 0 1 0 1 0 1 1 0]\n",
            " [1 1 1 1 1 1 1 0 1 1 1 0 1 1 1 1 1 0 0 1]\n",
            " [1 1 0 0 1 0 0 1 0 0 0 0 0 0 0 0 0 1 1 0]\n",
            " [1 0 1 0 0 1 0 1 0 1 1 0 0 1 1 0 1 0 0 1]\n",
            " [0 0 1 1 0 1 0 1 1 1 0 0 1 1 0 0 1 1 1 1]\n",
            " [1 1 0 1 0 0 0 1 1 0 0 1 0 0 0 0 0 0 0 1]\n",
            " [1 1 1 0 0 1 0 0 1 0 1 1 0 1 0 0 0 0 0 0]\n",
            " [0 0 0 1 1 0 1 1 0 0 1 0 1 1 0 1 0 1 0 0]\n",
            " [0 0 0 1 0 1 1 1 0 0 0 0 1 0 1 1 0 0 1 0]\n",
            " [1 1 1 0 1 1 0 1 1 1 1 1 0 1 0 1 0 0 1 0]\n",
            " [0 1 0 1 1 1 0 1 0 1 0 0 1 1 0 0 0 0 0 0]]\n"
          ],
          "name": "stdout"
        }
      ]
    },
    {
      "cell_type": "markdown",
      "metadata": {
        "id": "3CF9bKQ_g9JU"
      },
      "source": [
        "**Calcula o fitness da população existente**"
      ]
    },
    {
      "cell_type": "code",
      "metadata": {
        "id": "qVqfrIYTphz3"
      },
      "source": [
        "#Calcula Fitness\n",
        "def cal_fitness(peso, valor, populacao, peso_total_maximo_mochila):\n",
        "    fitness = np.empty(populacao.shape[0])\n",
        "    for i in range(populacao.shape[0]):\n",
        "        S1 = np.sum(populacao[i] * valor)\n",
        "        S2 = np.sum(populacao[i] * peso)\n",
        "        if S2 <= peso_total_maximo_mochila:\n",
        "            fitness[i] = S1\n",
        "        else :\n",
        "            fitness[i] = 0 \n",
        "    return fitness.astype(int)   "
      ],
      "execution_count": null,
      "outputs": []
    },
    {
      "cell_type": "markdown",
      "metadata": {
        "id": "D8ISDArih0aq"
      },
      "source": [
        "**Executa o processo**"
      ]
    },
    {
      "cell_type": "code",
      "metadata": {
        "id": "euEd0mxUhDP-"
      },
      "source": [
        "def optimize(pesos, valor, population, pop_size, num_geracoes, peso_total_maximo_mochila):\n",
        "    parameters, fitness_history = [], []\n",
        "    \n",
        "    #proporção da quantidade dos pais que participarão da operação de cruzamento\n",
        "    num_pais_selecao = int(pop_size[0]* 3/4)\n",
        "    #faz a evolução do processo durante o número de gerações\n",
        "    for i in range(num_geracoes):\n",
        "        #calcula o fitness da população atual\n",
        "        fitness = cal_fitness(pesos, valor, population, peso_total_maximo_mochila)\n",
        "        \n",
        "        #elitismo (novo) - mantém os melhor individuos\n",
        "        population=population[fitness.argsort()[-pop_size[0]:][::-1]]\n",
        "        fitness=fitness[fitness.argsort()[-pop_size[0]:][::-1]]\n",
        "        \n",
        "        \n",
        "        fitness_history.append(fitness)\n",
        "\n",
        "        #seleciona os pais\n",
        "        pais = selection(fitness, num_pais_selecao, population)\n",
        "\n",
        "        #realiza o cruzamento\n",
        "        filhos = crossover(pais)\n",
        "\n",
        "        #realiza a mutação\n",
        "        mutants = mutation(filhos)\n",
        "\n",
        "        #insere novos filhos na populacao\n",
        "        if(mutants.size != 0.):\n",
        "          population=np.append(population, mutants, axis = 0)\n",
        "        \n",
        "        #Mantém apenas vetores únicos, ignorando repetições\n",
        "        population, index = np.unique(population, axis=0, return_index=True)\n",
        "\n",
        "        \n",
        "    print('Última Geração: \\n{}\\n'.format(population)) \n",
        "    fitness_last_gen = cal_fitness(pesos, valor, population, peso_total_maximo_mochila)  \n",
        "\n",
        "    print('Fitness da última geração: \\n{}\\n'.format(fitness_last_gen))\n",
        "    max_fitness = np.where(fitness_last_gen == np.max(fitness_last_gen))\n",
        "    \n",
        "    parameters.append(population[max_fitness[0][0],:])\n",
        "    return parameters, fitness_history"
      ],
      "execution_count": null,
      "outputs": []
    },
    {
      "cell_type": "markdown",
      "metadata": {
        "id": "19hZY2bE22MT"
      },
      "source": [
        "**Operação de seleção (usando torneio)**"
      ]
    },
    {
      "cell_type": "code",
      "metadata": {
        "id": "Ft3nttgPmJW9"
      },
      "source": [
        "def selection(fitness2, num_pais, population):\n",
        "    fitness = list(fitness2)\n",
        "    parents = np.empty((num_pais, population.shape[1]))\n",
        "    \n",
        "    #taxa de comparação\n",
        "    k=0.75\n",
        "    for i in range(num_pais):\n",
        "\n",
        "        #seleciona aleatoriamente dois individuos da população\n",
        "        x1=random.randint(0, population.shape[0]-1)\n",
        "        x2=random.randint(0, population.shape[0]-1)\n",
        "\n",
        "        #Verifico se já não foram utilizados, se foram utilizados tenho que selecionar outro\n",
        "        while(fitness[x1]==-999999):\n",
        "          x1=random.randint(0, population.shape[0]-1)\n",
        "        while(fitness[x2]==-999999):\n",
        "          x2=random.randint(0, population.shape[0]-1)\n",
        "\n",
        "        #Ajusto para o individuo de maior fitness sempre ser o x1\n",
        "        if (fitness[x1]<fitness[x2]):\n",
        "          aux=x1\n",
        "          x1=x2\n",
        "          x2=aux\n",
        "        \n",
        "        # Gero um número aleatóriamente e na sequencia comparo com k. \n",
        "        # Observem aqui que para um k grande, como 75%, o número aleatório tem maior chance de estar entre 0 e 75 do que 75 até 100\n",
        "        # esse comportamento permite que 0 a 75 tenha mais chances de ser sorteado, então uso ele para dar chance ao fitness de maior valor\n",
        "        r=random.random()\n",
        "        # seleciono fitness de maior valor no primeiro caso e pior valor no segundo\n",
        "        if (r<k):\n",
        "          parents[i,:] = population[x1, :]\n",
        "          fitness[x1] = -999999\n",
        "        else:\n",
        "          parents[i,:] = population[x2, :]\n",
        "          fitness[x2] = -999999\n",
        "    # retorno todos pais selecionados\n",
        "    return parents"
      ],
      "execution_count": null,
      "outputs": []
    },
    {
      "cell_type": "markdown",
      "metadata": {
        "id": "hMksu-pvEwuo"
      },
      "source": [
        "**Cruzamento**"
      ]
    },
    {
      "cell_type": "code",
      "metadata": {
        "id": "oSZaBqkrmJ2C"
      },
      "source": [
        "def crossover(parents):\n",
        "    #gerando um vetor para armazenar os filhos\n",
        "    offsprings = []\n",
        "    #determinando que no cruzamento vou pegar o meio de cada individuo\n",
        "    crossover_point = int(parents.shape[1]/2)\n",
        "\n",
        "    #estabelecendo uma taxa do cruzamento ocorrer\n",
        "    crossover_rate = 0.8\n",
        "    i=0\n",
        "    while (i < parents.shape[0]):\n",
        "        x = rd.random()\n",
        "        if x < crossover_rate:\n",
        "          parent1_index = i%parents.shape[0]\n",
        "          parent2_index = (i+1)%parents.shape[0]\n",
        "          \n",
        "          filho1 = np.empty(parents.shape[1])\n",
        "          filho2 = np.empty(parents.shape[1])\n",
        "\n",
        "          filho1[0:crossover_point] = parents[parent1_index,0:crossover_point]\n",
        "          filho1[crossover_point:]  = parents[parent2_index,crossover_point:]\n",
        "          \n",
        "          filho2[0:crossover_point] = parents[parent2_index,0:crossover_point]\n",
        "          filho2[crossover_point:]  = parents[parent1_index,crossover_point:]\n",
        "          \n",
        "          \n",
        "          offsprings.append(filho1)\n",
        "          offsprings.append(filho2)\n",
        "        i=i+2\n",
        "    return np.asarray(offsprings, dtype=np.int32)"
      ],
      "execution_count": null,
      "outputs": []
    },
    {
      "cell_type": "code",
      "metadata": {
        "id": "fpP4smapmQ55"
      },
      "source": [
        "def mutation(offsprings):\n",
        "    mutants = np.empty((offsprings.shape))\n",
        "    mutation_rate = 0.4\n",
        "    for i in range(mutants.shape[0]):\n",
        "        random_value = rd.random()\n",
        "        mutants[i,:] = offsprings[i,:]\n",
        "        if random_value > mutation_rate:\n",
        "            continue\n",
        "        int_random_value = randint(0,offsprings.shape[1]-1)    \n",
        "        if mutants[i,int_random_value] == 0 :\n",
        "            mutants[i,int_random_value] = 1\n",
        "        else :\n",
        "            mutants[i,int_random_value] = 0\n",
        "    return mutants"
      ],
      "execution_count": null,
      "outputs": []
    },
    {
      "cell_type": "markdown",
      "metadata": {
        "id": "KmckL-C4VcN4"
      },
      "source": [
        "**Main do código: Executo o código do GA**"
      ]
    },
    {
      "cell_type": "code",
      "metadata": {
        "id": "uHUAFTycmWFo",
        "colab": {
          "base_uri": "https://localhost:8080/",
          "height": 726
        },
        "outputId": "c777fdbf-04a0-4b56-9297-523033ac4a1d"
      },
      "source": [
        "parameters, fitness_history = optimize(peso, valor, populacao_inicial, pop_size, num_geracoes, peso_total_maximo_mochila)\n",
        "print('A solução que de saída é: \\n{}'.format(parameters))\n",
        "itens_selecionados = itens * parameters\n",
        "print('\\nOs item que irão maximizar a mochila são:')\n",
        "total_peso=0\n",
        "total_valor=0\n",
        "for i in range(itens_selecionados.shape[1]):\n",
        "  if itens_selecionados[0][i] != 0:\n",
        "     print('{0}          {1}         {2}\\n'.format(itens[i], peso[i], valor[i]))\n",
        "     total_peso=total_peso+peso[i]\n",
        "     total_valor=total_valor+valor[i]\n",
        "print('      Peso: {0}        Valor {1}\\n'.format(total_peso,total_valor))\n",
        "\n"
      ],
      "execution_count": null,
      "outputs": [
        {
          "output_type": "stream",
          "text": [
            "Última Geração: \n",
            "[[0. 0. 0. ... 0. 0. 0.]\n",
            " [0. 0. 0. ... 0. 0. 1.]\n",
            " [0. 0. 0. ... 1. 1. 1.]\n",
            " ...\n",
            " [1. 0. 1. ... 0. 0. 0.]\n",
            " [1. 0. 1. ... 0. 1. 0.]\n",
            " [1. 1. 1. ... 0. 0. 0.]]\n",
            "\n",
            "Fitness da última geração: \n",
            "[2123    0 1171  953    0    0  770  694 1145 1077    0    0    0    0\n",
            " 1170    0 1740    0    0 2142 2189    0 2723 2420 2655    0 2160    0\n",
            "    0    0    0    0    0    0    0    0 1924    0    0    0    0 1244\n",
            "    0    0 2227    0 2627 1304 1452 3034 1042 1425  752  900    0    0\n",
            " 2621 2553    0 1229    0    0    0    0 2447 2830 2301 1235 1618    0\n",
            "    0    0    0    0    0    0    0    0 1631    0    0 1475    0    0]\n",
            "\n",
            "A solução que de saída é: \n",
            "[array([0., 0., 0., 1., 1., 1., 1., 1., 0., 0., 0., 0., 0., 1., 0., 1., 1.,\n",
            "       0., 0., 0.])]\n",
            "\n",
            "Os item que irão maximizar a mochila são:\n",
            "4          10         161\n",
            "\n",
            "5          5         146\n",
            "\n",
            "6          1         739\n",
            "\n",
            "7          2         600\n",
            "\n",
            "8          14         513\n",
            "\n",
            "14          3         659\n",
            "\n",
            "16          1         144\n",
            "\n",
            "17          2         72\n",
            "\n",
            "      Peso: 38        Valor 3034\n",
            "\n",
            "['d', 'e']\n"
          ],
          "name": "stdout"
        }
      ]
    },
    {
      "cell_type": "code",
      "metadata": {
        "id": "jzN0WpZyqJ1l",
        "colab": {
          "base_uri": "https://localhost:8080/",
          "height": 312
        },
        "outputId": "d5a98fb5-52e2-41b2-948d-a6a5ffce0629"
      },
      "source": [
        "fitness_history_mean = [np.mean(fitness) for fitness in fitness_history]\n",
        "fitness_history_max = [np.max(fitness) for fitness in fitness_history]\n",
        "plt.plot(list(range(num_geracoes)), fitness_history_mean, label = 'Mean Fitness')\n",
        "plt.plot(list(range(num_geracoes)), fitness_history_max, label = 'Max Fitness')\n",
        "plt.legend()\n",
        "plt.title('Fitness through the generations')\n",
        "plt.xlabel('Generations')\n",
        "plt.ylabel('Fitness')\n",
        "plt.show()\n",
        "print(np.asarray(fitness_history).shape)"
      ],
      "execution_count": null,
      "outputs": [
        {
          "output_type": "display_data",
          "data": {
            "image/png": "[encoded data removed]",
            "text/plain": [
              "<Figure size 432x288 with 1 Axes>"
            ]
          },
          "metadata": {
            "tags": [],
            "needs_background": "light"
          }
        },
        {
          "output_type": "stream",
          "text": [
            "(5, 50)\n"
          ],
          "name": "stdout"
        }
      ]
    },
    {
      "cell_type": "code",
      "metadata": {
        "id": "--Ly5y_-tGRu"
      },
      "source": [
        ""
      ],
      "execution_count": null,
      "outputs": []
    }
  ]
}