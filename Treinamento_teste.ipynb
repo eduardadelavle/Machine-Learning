{
  "nbformat": 4,
  "nbformat_minor": 0,
  "metadata": {
    "colab": {
      "name": "Treinamento-teste-04112020.ipynb",
      "provenance": [],
      "authorship_tag": "ABX9TyP3s4aD/Zqg3yRTq0HXz+w0",
      "include_colab_link": true
    },
    "kernelspec": {
      "name": "python3",
      "display_name": "Python 3"
    }
  },
  "cells": [
    {
      "cell_type": "markdown",
      "metadata": {
        "id": "view-in-github",
        "colab_type": "text"
      },
      "source": [
        "<a href=\"https://colab.research.google.com/github/eduardadelavle/Machine-Learning/blob/main/Treinamento_teste.ipynb\" target=\"_parent\"><img src=\"https://colab.research.google.com/assets/colab-badge.svg\" alt=\"Open In Colab\"/></a>"
      ]
    },
    {
      "cell_type": "code",
      "metadata": {
        "id": "4lqNTxohlfWY"
      },
      "source": [
        "from sklearn.neural_network import MLPClassifier\n",
        "from sklearn.datasets import load_breast_cancer\n",
        "from sklearn.model_selection import train_test_split\n",
        "from sklearn.metrics import accuracy_score\n",
        "import numpy as np"
      ],
      "execution_count": null,
      "outputs": []
    },
    {
      "cell_type": "code",
      "metadata": {
        "id": "wp_rzMFfl2WJ",
        "colab": {
          "base_uri": "https://localhost:8080/"
        },
        "outputId": "0fe8ff2a-db4b-4fa2-cb69-27c29addaf0f"
      },
      "source": [
        "X, y = load_breast_cancer(return_X_y=True)\n",
        "\n",
        "print(\"Quantidade dos dados: \", X.shape)\n",
        "\n",
        "#Separa os dados em 75% para treino e 25% para teste\n",
        "X_train, X_test, y_train, y_test = train_test_split(X, y, random_state=1)\n",
        "print(\"Quantidade dos dados de treino: \", X_train.shape)\n",
        "print(\"Quantidade dos dados de teste: \", X_test.shape)\n",
        "\n",
        "clf = MLPClassifier(max_iter=300).fit(X_train, y_train)"
      ],
      "execution_count": null,
      "outputs": [
        {
          "output_type": "stream",
          "text": [
            "Quantidade dos dados:  (569, 30)\n",
            "Quantidade dos dados de treino:  (426, 30)\n",
            "Quantidade dos dados de teste:  (143, 30)\n"
          ],
          "name": "stdout"
        }
      ]
    },
    {
      "cell_type": "code",
      "metadata": {
        "id": "NCY62_sjl3Bh",
        "colab": {
          "base_uri": "https://localhost:8080/"
        },
        "outputId": "5dc347a8-3c0a-4cf7-c861-e8d4de9cf35b"
      },
      "source": [
        "clf.predict(X_test)\n",
        "accuracy_score(clf.predict(X_test), y_test)"
      ],
      "execution_count": null,
      "outputs": [
        {
          "output_type": "execute_result",
          "data": {
            "text/plain": [
              "0.9300699300699301"
            ]
          },
          "metadata": {
            "tags": []
          },
          "execution_count": 3
        }
      ]
    },
    {
      "cell_type": "code",
      "metadata": {
        "id": "tMK-Y8_jl_ro",
        "colab": {
          "base_uri": "https://localhost:8080/"
        },
        "outputId": "d75f23a4-fb82-4aee-e0a2-fe868e070355"
      },
      "source": [
        "import numpy as np\n",
        "from sklearn.model_selection import cross_val_score\n",
        "\n",
        "clf1 = MLPClassifier(max_iter=300)\n",
        "\n",
        "scores = cross_val_score(clf1, X, y, cv=5)\n",
        "print(scores)\n",
        "print('A média é %0.2f e o desvio é %0.2f' % (np.mean(scores), np.std(scores)))"
      ],
      "execution_count": null,
      "outputs": [
        {
          "output_type": "stream",
          "text": [
            "[0.94736842 0.93859649 0.94736842 0.93859649 0.94690265]\n",
            "A média é 0.94 e o desvio é 0.00\n"
          ],
          "name": "stdout"
        }
      ]
    },
    {
      "cell_type": "code",
      "metadata": {
        "id": "mxUdPTBPtu_T",
        "colab": {
          "base_uri": "https://localhost:8080/"
        },
        "outputId": "2739c6c1-434e-4d24-ed7c-4eb8725aded0"
      },
      "source": [
        "#comparar algoritmo\n",
        "\n",
        "from sklearn.neighbors import KNeighborsClassifier\n",
        "\n",
        "\n",
        "clf2 = KNeighborsClassifier(n_neighbors=3)\n",
        "\n",
        "scores = cross_val_score(clf2, X, y, cv=5)\n",
        "print(scores)\n",
        "print('A média é %0.2f e o desvio é %0.2f' % (np.mean(scores), np.std(scores)))"
      ],
      "execution_count": null,
      "outputs": [
        {
          "output_type": "stream",
          "text": [
            "[0.87719298 0.92105263 0.94736842 0.93859649 0.91150442]\n",
            "A média é 0.92 e o desvio é 0.02\n"
          ],
          "name": "stdout"
        }
      ]
    }
  ]
}